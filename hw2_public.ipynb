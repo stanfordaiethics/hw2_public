{
  "nbformat": 4,
  "nbformat_minor": 0,
  "metadata": {
    "colab": {
      "provenance": []
    },
    "kernelspec": {
      "name": "python3",
      "display_name": "Python 3"
    },
    "language_info": {
      "name": "python"
    },
    "accelerator": "GPU"
  },
  "cells": [
    {
      "cell_type": "code",
      "source": [
        "# Run this cell before anything else to install required packages\n",
        "!pip install transformers datasets shap seaborn"
      ],
      "metadata": {
        "id": "Xlwcw6g7__8V"
      },
      "execution_count": null,
      "outputs": []
    },
    {
      "cell_type": "markdown",
      "source": [
        "# Problem 2. Linear Sentiment"
      ],
      "metadata": {
        "id": "72cqfiGTZ1rn"
      }
    },
    {
      "cell_type": "code",
      "source": [
        "import sklearn\n",
        "from sklearn.feature_extraction.text import TfidfVectorizer\n",
        "from sklearn.model_selection import train_test_split\n",
        "import numpy as np\n",
        "import shap"
      ],
      "metadata": {
        "id": "PfZ59emZZ5Vc"
      },
      "execution_count": null,
      "outputs": []
    },
    {
      "cell_type": "code",
      "source": [
        "# Load IMDB dataset and split into train/test set\n",
        "corpus,y = shap.datasets.imdb()\n",
        "corpus_train, corpus_test, y_train, y_test = train_test_split(corpus, y, test_size=0.2, random_state=7)\n",
        "vectorizer = TfidfVectorizer(min_df=10)\n",
        "X_train = vectorizer.fit_transform(corpus_train).toarray()\n",
        "X_test = vectorizer.transform(corpus_test).toarray()"
      ],
      "metadata": {
        "id": "px2hyUexZ952"
      },
      "execution_count": null,
      "outputs": []
    },
    {
      "cell_type": "code",
      "source": [
        "## TODO: Problem 2.(a) Print the first 10 reviews in the test set, and examine\n",
        "# the corresponding labels"
      ],
      "metadata": {
        "id": "uamRhPN8FOO-"
      },
      "execution_count": null,
      "outputs": []
    },
    {
      "cell_type": "code",
      "source": [
        "## TODO: examine the vectorizer.vocabulary_ dictionary"
      ],
      "metadata": {
        "id": "dWhb4zeuFpVt"
      },
      "execution_count": null,
      "outputs": []
    },
    {
      "cell_type": "code",
      "source": [
        "## TODO: Select any 10 words which appear in the first sentence and in the \n",
        "# dictionary, and which you’ll be interested in examining SHAP values for. \n",
        "# Then, select their indices using the dictionary, and save them into an idxs\n",
        "# variable."
      ],
      "metadata": {
        "id": "pA2A29aTFnx4"
      },
      "execution_count": null,
      "outputs": []
    },
    {
      "cell_type": "code",
      "source": [
        "## TODO: Problem 2.(b) Fit a logistic regression model "
      ],
      "metadata": {
        "id": "o-S6llyGZ-0q"
      },
      "execution_count": null,
      "outputs": []
    },
    {
      "cell_type": "code",
      "source": [
        "## TODO: Problem 2.(c) Manual Computation of Linear SHAP values"
      ],
      "metadata": {
        "id": "rmPMfvebHsV6"
      },
      "execution_count": null,
      "outputs": []
    },
    {
      "cell_type": "code",
      "source": [
        "## TODO: Problem 2.(d) Use shap.LinearExplainer to compute SHAP values.\n",
        "# Compare results to (c)"
      ],
      "metadata": {
        "id": "LRct6aezaIUb"
      },
      "execution_count": null,
      "outputs": []
    },
    {
      "cell_type": "markdown",
      "source": [
        "# Problem 3. SHAP with ConvNets"
      ],
      "metadata": {
        "id": "HsPQRdGPI-ZE"
      }
    },
    {
      "cell_type": "code",
      "source": [
        "import torch, torchvision\n",
        "from torchvision import datasets, transforms\n",
        "from torch import nn, optim\n",
        "from torch.nn import functional as F\n",
        "\n",
        "import numpy as np\n",
        "import shap"
      ],
      "metadata": {
        "id": "m3X1YBhRJDpe"
      },
      "execution_count": null,
      "outputs": []
    },
    {
      "cell_type": "code",
      "source": [
        "# Code to train a ConvNet on MNIST image classification\n",
        "batch_size = 128\n",
        "num_epochs = 2\n",
        "device = torch.device('cpu')\n",
        "torch.manual_seed(0)\n",
        "\n",
        "class Net(nn.Module):\n",
        "    def __init__(self):\n",
        "        super(Net, self).__init__()\n",
        "\n",
        "        self.conv_layers = nn.Sequential(\n",
        "            nn.Conv2d(1, 10, kernel_size=5),\n",
        "            nn.MaxPool2d(2),\n",
        "            nn.ReLU(),\n",
        "            nn.Conv2d(10, 20, kernel_size=5),\n",
        "            nn.Dropout(),\n",
        "            nn.MaxPool2d(2),\n",
        "            nn.ReLU(),\n",
        "        )\n",
        "        self.fc_layers = nn.Sequential(\n",
        "            nn.Linear(320, 50),\n",
        "            nn.ReLU(),\n",
        "            nn.Dropout(),\n",
        "            nn.Linear(50, 10),\n",
        "            nn.Softmax(dim=1)\n",
        "        )\n",
        "\n",
        "    def forward(self, x):\n",
        "        x = self.conv_layers(x)\n",
        "        x = x.view(-1, 320)\n",
        "        x = self.fc_layers(x)\n",
        "        return x\n",
        "\n",
        "def train(model, device, train_loader, optimizer, epoch):\n",
        "    model.train()\n",
        "    for batch_idx, (data, target) in enumerate(train_loader):\n",
        "        data, target = data.to(device), target.to(device)\n",
        "        optimizer.zero_grad()\n",
        "        output = model(data)\n",
        "        loss = F.nll_loss(output.log(), target)\n",
        "        loss.backward()\n",
        "        optimizer.step()\n",
        "        if batch_idx % 100 == 0:\n",
        "            print('Train Epoch: {} [{}/{} ({:.0f}%)]\\tLoss: {:.6f}'.format(\n",
        "                epoch, batch_idx * len(data), len(train_loader.dataset),\n",
        "                100. * batch_idx / len(train_loader), loss.item()))\n",
        "\n",
        "def test(model, device, test_loader):\n",
        "    model.eval()\n",
        "    test_loss = 0\n",
        "    correct = 0\n",
        "    with torch.no_grad():\n",
        "        for data, target in test_loader:\n",
        "            data, target = data.to(device), target.to(device)\n",
        "            output = model(data)\n",
        "            test_loss += F.nll_loss(output.log(), target).item() # sum up batch loss\n",
        "            pred = output.max(1, keepdim=True)[1] # get the index of the max log-probability\n",
        "            correct += pred.eq(target.view_as(pred)).sum().item()\n",
        "\n",
        "    test_loss /= len(test_loader.dataset)\n",
        "    print('\\nTest set: Average loss: {:.4f}, Accuracy: {}/{} ({:.0f}%)\\n'.format(\n",
        "        test_loss, correct, len(test_loader.dataset),\n",
        "    100. * correct / len(test_loader.dataset)))\n",
        "\n",
        "train_loader = torch.utils.data.DataLoader(\n",
        "    datasets.MNIST('mnist_data', train=True, download=True,\n",
        "                   transform=transforms.Compose([\n",
        "                       transforms.ToTensor()\n",
        "                   ])),\n",
        "    batch_size=batch_size, shuffle=True)\n",
        "\n",
        "test_loader = torch.utils.data.DataLoader(\n",
        "    datasets.MNIST('mnist_data', train=False, transform=transforms.Compose([\n",
        "                       transforms.ToTensor()\n",
        "                   ])),\n",
        "    batch_size=batch_size, shuffle=True)\n",
        "\n",
        "model = Net().to(device)\n",
        "optimizer = optim.SGD(model.parameters(), lr=0.01, momentum=0.5)\n",
        "\n",
        "for epoch in range(1, num_epochs + 1):\n",
        "    train(model, device, train_loader, optimizer, epoch)\n",
        "    test(model, device, test_loader)\n"
      ],
      "metadata": {
        "id": "3b0ufCnuJBqQ",
        "colab": {
          "base_uri": "https://localhost:8080/"
        },
        "outputId": "8df271c3-2d02-4598-b3bd-d86562bca72e"
      },
      "execution_count": null,
      "outputs": [
        {
          "output_type": "stream",
          "name": "stdout",
          "text": [
            "Train Epoch: 1 [0/60000 (0%)]\tLoss: 2.312237\n",
            "Train Epoch: 1 [12800/60000 (21%)]\tLoss: 2.256531\n",
            "Train Epoch: 1 [25600/60000 (43%)]\tLoss: 1.771387\n",
            "Train Epoch: 1 [38400/60000 (64%)]\tLoss: 0.962741\n",
            "Train Epoch: 1 [51200/60000 (85%)]\tLoss: 0.771190\n",
            "\n",
            "Test set: Average loss: 0.0051, Accuracy: 8856/10000 (89%)\n",
            "\n",
            "Train Epoch: 2 [0/60000 (0%)]\tLoss: 0.638823\n",
            "Train Epoch: 2 [12800/60000 (21%)]\tLoss: 0.636632\n",
            "Train Epoch: 2 [25600/60000 (43%)]\tLoss: 0.628619\n",
            "Train Epoch: 2 [38400/60000 (64%)]\tLoss: 0.487452\n",
            "Train Epoch: 2 [51200/60000 (85%)]\tLoss: 0.577050\n",
            "\n",
            "Test set: Average loss: 0.0027, Accuracy: 9303/10000 (93%)\n",
            "\n"
          ]
        }
      ]
    },
    {
      "cell_type": "code",
      "source": [
        "# Get data for SHAP\n",
        "batch = next(iter(test_loader))\n",
        "images, labels = batch\n",
        "\n",
        "background = images[:100]\n",
        "test_images = images[110:116]\n",
        "test_labels = labels[110:116]\n",
        "pred_labels = model(test_images).max(1, keepdim=True)[1].reshape(-1)"
      ],
      "metadata": {
        "id": "KSDcrTDCJF1-"
      },
      "execution_count": null,
      "outputs": []
    },
    {
      "cell_type": "code",
      "source": [
        "# TODO: Problem 3. (a) Fit DeepExplainer "
      ],
      "metadata": {
        "id": "muNwCu2HAFF3"
      },
      "execution_count": null,
      "outputs": []
    },
    {
      "cell_type": "code",
      "source": [
        "# TODO: Problem 3. (b) Visualize the explanations"
      ],
      "metadata": {
        "id": "K8NNmKagF73W"
      },
      "execution_count": null,
      "outputs": []
    },
    {
      "cell_type": "code",
      "source": [
        "# TODO: Problem 3. (c) Compare true and predicted labels to the visualization"
      ],
      "metadata": {
        "id": "_lEqxVWXGAZ7"
      },
      "execution_count": null,
      "outputs": []
    }
  ]
}